{
 "cells": [
  {
   "cell_type": "markdown",
   "id": "3a9c053c-14c7-4668-8545-283e4d91ca1f",
   "metadata": {},
   "source": [
    "    # Data Science Tools and Ecosystem\n"
   ]
  },
  {
   "cell_type": "markdown",
   "id": "0ebca48a-da5e-495c-93e0-8ea002ed7f97",
   "metadata": {},
   "source": [
    "In this notebook, we summarize some of the key tools, languages, and libraries used in Data Science. \n",
    "We also perform a few basic arithmetic operations in Python.\n"
   ]
  },
  {
   "cell_type": "markdown",
   "id": "01f656f7-2f37-43ff-8350-45c7e9cfde61",
   "metadata": {},
   "source": [
    "## Data Science Languages\n",
    "Some popular languages for Data Science include:\n",
    "- Python\n",
    "- R\n",
    "- SQL\n",
    "- Julia\n",
    "- Scala\n"
   ]
  },
  {
   "cell_type": "markdown",
   "id": "2b708ab7-5a03-4e70-93a2-9daaa53fc826",
   "metadata": {},
   "source": [
    "## Data Science Libraries\r\n",
    "Commonly used libraries for Data Science are:\r\n",
    "- Pandas\r\n",
    "- NumPy\r\n",
    "- Matplotlib\r\n",
    "- Scikit-learn\r\n",
    "- TensorFlow\r\n"
   ]
  },
  {
   "cell_type": "markdown",
   "id": "50b36aab-a640-4378-82d4-cde40728b827",
   "metadata": {},
   "source": [
    "## Data Science Tools\n",
    "\n",
    "| Tool           | Category        | Description |\n",
    "|----------------|----------------|-------------|\n",
    "| Jupyter Notebook | IDE/Notebook | Interactive computing environment |\n",
    "| RStudio        | IDE            | IDE for R language |\n",
    "| Apache Spark   | Big Data       | Distributed data processing framework |\n"
   ]
  },
  {
   "cell_type": "markdown",
   "id": "d636ea43-a2de-47ca-90f9-664625195d2a",
   "metadata": {},
   "source": [
    "### Examples of Arithmetic Expressions in Python\n",
    "Below are some simple examples of arithmetic operations, including multiplication and addition.\n"
   ]
  },
  {
   "cell_type": "code",
   "execution_count": 7,
   "id": "7fbc438a-c7a1-4abb-8e41-d9113711e9d6",
   "metadata": {},
   "outputs": [
    {
     "data": {
      "text/plain": [
       "17"
      ]
     },
     "execution_count": 7,
     "metadata": {},
     "output_type": "execute_result"
    }
   ],
   "source": [
    "# Multiply and add numbers\n",
    "(3 * 4) + 5\n"
   ]
  },
  {
   "cell_type": "code",
   "execution_count": 9,
   "id": "3aa8d0ef-99ea-4af9-8c74-28b157d23c80",
   "metadata": {},
   "outputs": [
    {
     "data": {
      "text/plain": [
       "3.3333333333333335"
      ]
     },
     "execution_count": 9,
     "metadata": {},
     "output_type": "execute_result"
    }
   ],
   "source": [
    "# Convert minutes to hours\n",
    "minutes = 200\n",
    "hours = minutes / 60\n",
    "hours\n"
   ]
  },
  {
   "cell_type": "markdown",
   "id": "544153c9-2ac0-4652-981e-5de7efdbe225",
   "metadata": {},
   "source": [
    "## Objectives\n",
    "- List popular languages for Data Science\n",
    "- List commonly used libraries\n",
    "- Create a table of Data Science tools\n",
    "- Demonstrate basic arithmetic operations in Python\n",
    "- Convert units using Python code\n"
   ]
  },
  {
   "cell_type": "markdown",
   "id": "67b6c8f7-090e-4f21-9ead-e62f26ea5f05",
   "metadata": {},
   "source": [
    "## Author\n",
    "OUTCHADMIT Mohamed\n"
   ]
  },
  {
   "cell_type": "code",
   "execution_count": null,
   "id": "deb39895-0127-4a30-a1cf-acb43b98d089",
   "metadata": {},
   "outputs": [],
   "source": []
  }
 ],
 "metadata": {
  "kernelspec": {
   "display_name": "Python 3 (ipykernel)",
   "language": "python",
   "name": "python3"
  },
  "language_info": {
   "codemirror_mode": {
    "name": "ipython",
    "version": 3
   },
   "file_extension": ".py",
   "mimetype": "text/x-python",
   "name": "python",
   "nbconvert_exporter": "python",
   "pygments_lexer": "ipython3",
   "version": "3.12.4"
  }
 },
 "nbformat": 4,
 "nbformat_minor": 5
}
